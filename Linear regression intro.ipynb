{
 "cells": [
  {
   "attachments": {},
   "cell_type": "markdown",
   "metadata": {},
   "source": [
    "## Introduction\n",
    "\n",
    "Before you can run any statistical models, it's usually a good idea to visualize your dataset.\n",
    "For Linear regression, we often calculate correlation beforehand by using the function or scatterplot to check the linearity between two variables.\n",
    "\n",
    "Two types of variable - \n",
    "1. Response variable (dependent variable/ Target or Estimated variable)\n",
    "2. Explanatory variable (independent variables/ feature variable)"
   ]
  },
  {
   "cell_type": "code",
   "execution_count": null,
   "metadata": {},
   "outputs": [
    {
     "data": {
      "text/plain": [
       "' import matplotlib.pyplot as plt\\nimport seaborn as sns\\nsns.regplot (x=\"size\", y=\"price\", data= df, ci= None)\\nplt.show() '"
      ]
     },
     "execution_count": 17,
     "metadata": {},
     "output_type": "execute_result"
    }
   ],
   "source": [
    "## 1.Correlation Function:\n",
    "# df['size_house'].corr(df['price_houses'])\n",
    "\n",
    "## 2.ScatterPlot:\n",
    "# import matplotlib.pyplot as plt\n",
    "# import seaborn as sns\n",
    "# sns.scatterplot(x=\"size\", y=\"price\", data= df)\n",
    "# plt.show()\n",
    "\n",
    "## 3.To add further a linear tread line in the visual, we use regplot():\n",
    "# import matplotlib.pyplot as plt\n",
    "# import seaborn as sns\n",
    "# sns.regplot (x=\"size\", y=\"price\", data= df, ci= None)\n",
    "# plt.show()\n"
   ]
  },
  {
   "cell_type": "markdown",
   "metadata": {},
   "source": []
  }
 ],
 "metadata": {
  "kernelspec": {
   "display_name": "Python 3",
   "language": "python",
   "name": "python3"
  },
  "language_info": {
   "codemirror_mode": {
    "name": "ipython",
    "version": 3
   },
   "file_extension": ".py",
   "mimetype": "text/x-python",
   "name": "python",
   "nbconvert_exporter": "python",
   "pygments_lexer": "ipython3",
   "version": "3.11.1 (tags/v3.11.1:a7a450f, Dec  6 2022, 19:58:39) [MSC v.1934 64 bit (AMD64)]"
  },
  "orig_nbformat": 4,
  "vscode": {
   "interpreter": {
    "hash": "82893acb3a1b5beabb5f14c191e93d268d2bae7b6b0ede2a8bfca66800353040"
   }
  }
 },
 "nbformat": 4,
 "nbformat_minor": 2
}
