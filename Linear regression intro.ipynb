{
 "cells": [
  {
   "attachments": {},
   "cell_type": "markdown",
   "metadata": {},
   "source": [
    "## Introduction of Linear Regression\n",
    "\n",
    "Before you can run any statistical models, it's usually a good idea to visualize your dataset.\n",
    "For Linear regression, we often calculate correlation beforehand by using the function or scatterplot to check the linearity between two variables.\n",
    "\n",
    "#### Two types of variables - \n",
    "1. Response variable (dependent variable/ Target or Estimated variable)\n",
    "2. Explanatory variable (independent variables/ feature variable)\n",
    "\n",
    "#### Python Packages -\n",
    "1. statsmodel: optimised for insights\n",
    "2. scikit-learn: optimised for predictions\n",
    "\n",
    "#### Two properties -\n",
    "1. Intercept: Value of y when x = 0\n",
    "2. Slope: Amount of y value increases, when x value increments by 1"
   ]
  },
  {
   "cell_type": "code",
   "execution_count": 2,
   "metadata": {},
   "outputs": [],
   "source": [
    "## 1.Correlation Function:\n",
    "# df['size_house'].corr(df['price_houses'])\n",
    "\n",
    "## 2.ScatterPlot:\n",
    "# import matplotlib.pyplot as plt\n",
    "# import seaborn as sns\n",
    "# sns.scatterplot(x=\"size\", y=\"price\", data= df)\n",
    "# plt.show()\n",
    "\n",
    "## 3.To add further a linear tread line in the visual, we use regplot():\n",
    "# import matplotlib.pyplot as plt\n",
    "# import seaborn as sns\n",
    "# sns.regplot (x=\"size\", y=\"price\", data= df, ci= None)\n",
    "# plt.show()\n"
   ]
  },
  {
   "attachments": {},
   "cell_type": "markdown",
   "metadata": {},
   "source": [
    "## StatsModel Package\n",
    "\n",
    "#### 1. OLS Regression (Ordinary Least Squares)"
   ]
  },
  {
   "cell_type": "code",
   "execution_count": 4,
   "metadata": {},
   "outputs": [],
   "source": [
    "# # Import the ols function:\n",
    "# from statsmodels.formula.api import ols\n",
    "\n",
    "# # Create the model object (format= \"Y variable ~ X variable\"):\n",
    "# ms = ols(\"price_twd_msq ~ n_convenience\", data = taiwan_real_estate)\n",
    "\n",
    "# # Fit the model:\n",
    "# mdl_price_vs_conv = ms.fit()\n",
    "\n",
    "# # Print the parameters of the fitted model:\n",
    "# print(mdl_price_vs_conv.params)"
   ]
  },
  {
   "cell_type": "code",
   "execution_count": null,
   "metadata": {},
   "outputs": [],
   "source": []
  }
 ],
 "metadata": {
  "kernelspec": {
   "display_name": "Python 3",
   "language": "python",
   "name": "python3"
  },
  "language_info": {
   "codemirror_mode": {
    "name": "ipython",
    "version": 3
   },
   "file_extension": ".py",
   "mimetype": "text/x-python",
   "name": "python",
   "nbconvert_exporter": "python",
   "pygments_lexer": "ipython3",
   "version": "3.11.1"
  },
  "orig_nbformat": 4,
  "vscode": {
   "interpreter": {
    "hash": "82893acb3a1b5beabb5f14c191e93d268d2bae7b6b0ede2a8bfca66800353040"
   }
  }
 },
 "nbformat": 4,
 "nbformat_minor": 2
}
