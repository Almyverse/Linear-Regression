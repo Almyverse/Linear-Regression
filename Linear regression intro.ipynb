{
 "cells": [
  {
   "attachments": {},
   "cell_type": "markdown",
   "metadata": {},
   "source": [
    "## Introduction\n",
    "\n",
    "Before you can run any statistical models, it's usually a good idea to visualize your dataset. For Linear regression, we often find correlation between two variables or sketch a scatter plot."
   ]
  },
  {
   "cell_type": "markdown",
   "metadata": {},
   "source": []
  }
 ],
 "metadata": {
  "kernelspec": {
   "display_name": "Python 3",
   "language": "python",
   "name": "python3"
  },
  "language_info": {
   "name": "python",
   "version": "3.11.1 (tags/v3.11.1:a7a450f, Dec  6 2022, 19:58:39) [MSC v.1934 64 bit (AMD64)]"
  },
  "orig_nbformat": 4,
  "vscode": {
   "interpreter": {
    "hash": "82893acb3a1b5beabb5f14c191e93d268d2bae7b6b0ede2a8bfca66800353040"
   }
  }
 },
 "nbformat": 4,
 "nbformat_minor": 2
}
