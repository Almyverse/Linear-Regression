{
 "cells": [
  {
   "attachments": {},
   "cell_type": "markdown",
   "metadata": {},
   "source": [
    "## Introduction\n",
    "\n",
    "Before you can run any statistical models, it's usually a good idea to visualize your dataset.\n",
    "For Linear regression, we often calculate correlation beforehand by using the function or scatterplot to check the linearity between two variables."
   ]
  },
  {
   "attachments": {},
   "cell_type": "markdown",
   "metadata": {},
   "source": [
    "#### FUNCTION:\n",
    "df['size_house'].corr(df['price_houses'])"
   ]
  },
  {
   "cell_type": "markdown",
   "metadata": {},
   "source": []
  }
 ],
 "metadata": {
  "kernelspec": {
   "display_name": "Python 3",
   "language": "python",
   "name": "python3"
  },
  "language_info": {
   "codemirror_mode": {
    "name": "ipython",
    "version": 3
   },
   "file_extension": ".py",
   "mimetype": "text/x-python",
   "name": "python",
   "nbconvert_exporter": "python",
   "pygments_lexer": "ipython3",
   "version": "3.11.1"
  },
  "orig_nbformat": 4,
  "vscode": {
   "interpreter": {
    "hash": "82893acb3a1b5beabb5f14c191e93d268d2bae7b6b0ede2a8bfca66800353040"
   }
  }
 },
 "nbformat": 4,
 "nbformat_minor": 2
}
