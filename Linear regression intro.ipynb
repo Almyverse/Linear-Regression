{
 "cells": [
  {
   "attachments": {},
   "cell_type": "markdown",
   "metadata": {},
   "source": [
    "## Introduction of Linear Regression\n",
    "\n",
    "Before you can run any statistical models, it's usually a good idea to visualize your dataset.\n",
    "For Linear regression, we often calculate correlation beforehand by using the function or scatterplot to check the linearity between two variables.\n",
    "\n",
    "#### Two types of variables - \n",
    "1. Response variable (dependent variable/ Target or Estimated variable)\n",
    "2. Explanatory variable (independent variables/ feature variable)\n",
    "\n",
    "#### Python Packages -\n",
    "1. statsmodel: optimised for insights\n",
    "2. scikit-learn: optimised for predictions\n",
    "\n",
    "#### Two properties -\n",
    "1. Intercept: Value of y when x = 0\n",
    "2. Slope: Amount of y value increases, when x value increments by 1"
   ]
  },
  {
   "cell_type": "code",
   "execution_count": 17,
   "metadata": {},
   "outputs": [],
   "source": [
    "# 1. Correlation Function:\n",
    "# df['size_house'].corr(df['price_houses'])\n",
    "\n",
    "\n",
    "#* 2. Visualising Numeric vs. Numeric variable (ScatterPlot):\n",
    "# import matplotlib.pyplot as plt\n",
    "# import seaborn as sns\n",
    "# sns.scatterplot(x=\"size\", y=\"price\", data= df)\n",
    "# plt.show()\n",
    "\n",
    "\n",
    "#* 3. Visualising Numeric vs. Numeric variable along with linear line (Regplot):\n",
    "# import matplotlib.pyplot as plt\n",
    "# import seaborn as sns\n",
    "# sns.regplot (x=\"size\", y=\"price\", data= df, ci= None)\n",
    "# plt.show()\n",
    "\n",
    "\n",
    "\n",
    "#* 4. Visualising Categorical vs. Numeric variable (Displot):\n",
    "# import matplotlib.pyplot as plt\n",
    "# import seaborn as sns\n",
    "# sns.displot(x=\"meat_mass\", col=\"species\", col_wrap = 2, bins = 9, data= butchershop)\n",
    "# plt.show()\n",
    "\n",
    "#// Displot function generates Histogram\n",
    "#? col = variable that divides different plots; col_wrap = no. of plots per row\n"
   ]
  },
  {
   "attachments": {},
   "cell_type": "markdown",
   "metadata": {},
   "source": [
    "## StatsModel Package\n",
    "\n",
    "#### 1. OLS Regression (Ordinary Least Squares)"
   ]
  },
  {
   "cell_type": "code",
   "execution_count": 18,
   "metadata": {},
   "outputs": [],
   "source": [
    " \n",
    "#* When the x & y variables are both numeric values:-\n",
    "\n",
    "\n",
    "# from statsmodels.formula.api import ols  #(Import the ols function)\n",
    "# ms = ols(\"price_twd_msq ~ n_convenience\", data = taiwan_real_estate) #(Create the model object; format= \"Y variable ~ X variable\")\n",
    "# mdl_price_vs_conv = ms.fit()  #(Fit the model)\n",
    "# print(mdl_price_vs_conv.params) #(print the parameters of the fitted model)"
   ]
  },
  {
   "cell_type": "code",
   "execution_count": null,
   "metadata": {},
   "outputs": [],
   "source": []
  }
 ],
 "metadata": {
  "kernelspec": {
   "display_name": "Python 3",
   "language": "python",
   "name": "python3"
  },
  "language_info": {
   "codemirror_mode": {
    "name": "ipython",
    "version": 3
   },
   "file_extension": ".py",
   "mimetype": "text/x-python",
   "name": "python",
   "nbconvert_exporter": "python",
   "pygments_lexer": "ipython3",
   "version": "3.11.1"
  },
  "orig_nbformat": 4,
  "vscode": {
   "interpreter": {
    "hash": "82893acb3a1b5beabb5f14c191e93d268d2bae7b6b0ede2a8bfca66800353040"
   }
  }
 },
 "nbformat": 4,
 "nbformat_minor": 2
}
